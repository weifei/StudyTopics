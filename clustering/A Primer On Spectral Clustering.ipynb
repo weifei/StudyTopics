{
 "cells": [
  {
   "cell_type": "code",
   "execution_count": 1,
   "metadata": {
    "collapsed": false,
    "slideshow": {
     "slide_type": "skip"
    }
   },
   "outputs": [],
   "source": [
    "%matplotlib inline\n",
    "%load_ext autoreload\n",
    "%autoreload 2\n",
    "import networkx as nx\n",
    "import numpy as np\n",
    "import pandas as pd\n",
    "import matplotlib.pyplot as plt\n",
    "import seaborn as sns\n",
    "import os\n",
    "from custom import custom_funcs as cf\n",
    "import random\n",
    "import re\n",
    "from sklearn.feature_extraction.text import TfidfVectorizer\n",
    "from sklearn import cluster\n",
    "from sklearn import metrics"
   ]
  },
  {
   "cell_type": "code",
   "execution_count": 27,
   "metadata": {
    "collapsed": false,
    "slideshow": {
     "slide_type": "skip"
    }
   },
   "outputs": [],
   "source": [
    "from notebook.services.config import ConfigManager\n",
    "from IPython.paths import locate_profile\n",
    "cm = ConfigManager(profile_dir=locate_profile(get_ipython().profile))\n",
    "cm.update('livereveal', {\n",
    "              'theme': 'serif',\n",
    "              'transition': 'default',\n",
    "              'background_transition': 'default',\n",
    "              'start_slideshow_at': 'selected',\n",
    "})\n",
    "plt.rcParams['figure.figsize'] = (10, 8)"
   ]
  },
  {
   "cell_type": "code",
   "execution_count": 3,
   "metadata": {
    "collapsed": true,
    "slideshow": {
     "slide_type": "skip"
    }
   },
   "outputs": [],
   "source": [
    "def draw_graph_with_node_colors(g, colors, pos=None, title=\"\", node_size=500):\n",
    "    \"\"\" draw a graph with colored (literally, nothing to do with ps repr) nodes\n",
    "    where the node colors are given by the list \"colors\"\n",
    "\n",
    "     This is used to\n",
    "     1. visualize the centrality measure of the nodes. it can very useful to draw the\n",
    "     process communication graph and the color_graph with nodes colored by their centrality scales.\n",
    "\n",
    "     2. visualize the partition/grouping in the context of the whole graph,\n",
    "     by plotting each partition the same color that is different from the other partitions\n",
    "\n",
    "    \"\"\"\n",
    "    plt.figure(figsize=(14, 11))\n",
    "    plt.subplot(title=title)\n",
    "    if not pos:\n",
    "        pos = nx.spring_layout(g)\n",
    "\n",
    "    nx.draw_networkx_edges(g, pos, alpha=0.5)\n",
    "    nodes = nx.draw_networkx_nodes(g, pos, nodelist=g.nodes(),\n",
    "                                   node_color=colors, cmap=plt.cm.rainbow, node_size=node_size)\n",
    "    labels = dict(zip(g.nodes(), g.nodes()))\n",
    "    nx.draw_networkx_labels(g, pos, labels, font_size=14)\n",
    "    plt.colorbar(nodes, fraction=0.015, pad=0.02)\n",
    "    plt.axis('off')\n",
    "    plt.show()"
   ]
  },
  {
   "cell_type": "markdown",
   "metadata": {
    "slideshow": {
     "slide_type": "slide"
    }
   },
   "source": [
    "# A Primer On Spectral Clustering"
   ]
  },
  {
   "cell_type": "markdown",
   "metadata": {
    "slideshow": {
     "slide_type": "subslide"
    }
   },
   "source": [
    "# What this is:\n",
    "\n",
    "- Clustering: a very gentle overview \n",
    "- Spectral Clustering, intro and little demos\n",
    "- A few other notable clustering/community detection algorithm based on graph theory\n",
    "- For fun?\n",
    "- This is not: A survey of clustering / spectral clustering / graph theory based clustering algorithms\n",
    "- This does not cover: most of other clustering methods\n",
    "- This does not deliver: any domain knowledge"
   ]
  },
  {
   "cell_type": "markdown",
   "metadata": {
    "slideshow": {
     "slide_type": "slide"
    }
   },
   "source": [
    "# Clustering\n",
    "\n",
    "- (Unsupervised) Divide data into groups (clusters) that are meaningful, useful or both \n",
    "    - We try to achieve these, but every so often, we get neither \n",
    "    - Internal (intra-cluster) homogeneity vs external (inter-cluster) heterogeneity  \n",
    "    \n",
    "- Applications\n",
    "    - Explanatory analysis\n",
    "    - Feature extracting\n",
    "    - Dimension reduction\n"
   ]
  },
  {
   "cell_type": "markdown",
   "metadata": {
    "slideshow": {
     "slide_type": "subslide"
    }
   },
   "source": [
    "\n",
    "- Common clustering approaches, hierarchical vs partitioning\n",
    "    - Hierarchical clustering\n",
    "        - Agglomerative vs Divisive\n",
    "    - Partitioning clustering\n",
    "        - K-means\n",
    "        - KNN"
   ]
  },
  {
   "cell_type": "markdown",
   "metadata": {
    "slideshow": {
     "slide_type": "slide"
    }
   },
   "source": [
    "# Spectral Clustering \n",
    "\n",
    "- Easy to implement\n",
    "- Reasonably fast\n",
    "- Not too many assumptions"
   ]
  },
  {
   "cell_type": "markdown",
   "metadata": {
    "slideshow": {
     "slide_type": "subslide"
    }
   },
   "source": [
    "\n",
    "## Fast Forward: Basic Ideas\n",
    "\n",
    "1. project your data into $R^{n}$\n",
    "    \n",
    "2. define an Affinity  matrix $A$ , using a Gaussian Kernel $K$ or say just an Adjacency matrix (i.e. $A_{i,j}=\\delta_{i,j}$, or weighted adjacency matrix $W$)\n",
    "\n",
    "3. construct the Graph Laplacian from $A$ or $W$ (i.e. decide on a normalization)\n",
    "\n",
    "4. solve an Eigenvalue problem , such as $L v=\\lambda v$  (or a Generalized Eigenvalue problem $L v=\\lambda D v$ )\n",
    "\n",
    "5. select $k$ eigenvectors $\\{ v_{i}, i=1, \\dots, k \\}$ corresponding to the $k$ lowest (or highest) eigenvalues $\\{ \\lambda_{i}, i=1,\\dots, k \\}$, to define $k$-dimensional subspace $P^{T}LP$\n",
    "\n",
    "6. form clusters in this subspace using, say, k-means"
   ]
  },
  {
   "cell_type": "markdown",
   "metadata": {
    "slideshow": {
     "slide_type": "slide"
    }
   },
   "source": [
    "# A more careful look at this ..."
   ]
  },
  {
   "cell_type": "markdown",
   "metadata": {
    "slideshow": {
     "slide_type": "slide"
    }
   },
   "source": [
    "# Step-by-Step with Python\n",
    "- NetworkX\n",
    "- Numpy, Pandas, Jupyter, scikit-learn, matplotlib"
   ]
  },
  {
   "cell_type": "code",
   "execution_count": 4,
   "metadata": {
    "collapsed": false,
    "slideshow": {
     "slide_type": "slide"
    }
   },
   "outputs": [
    {
     "name": "stdout",
     "output_type": "stream",
     "text": [
      "<class 'networkx.classes.graph.Graph'>\n"
     ]
    },
    {
     "data": {
      "image/png": "[encoded data removed]",
      "text/plain": [
       "<matplotlib.figure.Figure at 0x114b3d510>"
      ]
     },
     "metadata": {},
     "output_type": "display_data"
    }
   ],
   "source": [
    "G = cf.load_physicians_network()\n",
    "print type(G)\n",
    "G.number_of_nodes(), G.number_of_edges()\n",
    "nx.draw_networkx(G)"
   ]
  },
  {
   "cell_type": "markdown",
   "metadata": {
    "slideshow": {
     "slide_type": "slide"
    }
   },
   "source": [
    "## Pre-processing\n",
    "- Select features, choose affinity measures, properly construct the graph\n",
    "\n",
    "## Spectral analysis and projections\n",
    "- Determine right matrix forms, solve eigenvalue problems, \n",
    "- Projection into lower dimension eigenspaces\n",
    "\n",
    "## Clustering\n",
    "- conventional clustering in lower dimensional spaces with clustering features are more pronounced"
   ]
  },
  {
   "cell_type": "markdown",
   "metadata": {
    "slideshow": {
     "slide_type": "slide"
    }
   },
   "source": [
    "# Pre-processing\n"
   ]
  },
  {
   "cell_type": "markdown",
   "metadata": {
    "slideshow": {
     "slide_type": "slide"
    }
   },
   "source": [
    "# Proximity Measures \n",
    "\n",
    "$$ G = (V, E) $$\n",
    "\n",
    "## Space vs Graph View of Data\n",
    "\n",
    "- Fully connected graph\n",
    "- Neighborhood graphs\n",
    "- Or just graphs (my case)\n",
    "\n",
    "## Distance and/vs Affinity\n"
   ]
  },
  {
   "cell_type": "markdown",
   "metadata": {
    "slideshow": {
     "slide_type": "slide"
    }
   },
   "source": [
    "# Graphs ARE Matrices \n",
    "         - btw: This can be personal"
   ]
  },
  {
   "cell_type": "code",
   "execution_count": 5,
   "metadata": {
    "collapsed": false,
    "slideshow": {
     "slide_type": "slide"
    }
   },
   "outputs": [
    {
     "data": {
      "image/png": "[encoded data removed]",
      "text/plain": [
       "<matplotlib.figure.Figure at 0x11562ffd0>"
      ]
     },
     "metadata": {},
     "output_type": "display_data"
    }
   ],
   "source": [
    "G = nx.Graph()\n",
    "G.add_nodes_from(range(6))\n",
    "G.add_edges_from([(0,1),(1,2), (0,2), (3, 4)])\n",
    "nx.draw_spring(G)"
   ]
  },
  {
   "cell_type": "markdown",
   "metadata": {
    "slideshow": {
     "slide_type": "subslide"
    }
   },
   "source": [
    "## (Weighted) Adjacency Matrix\n",
    "- edge weight $w_{ij} \\geq 0$.\n",
    "- weighted matrix $ W = [w_{ij}]$\n",
    "- simple adjacency matrix $A$\n",
    "\n",
    "## Degree Matrix \n",
    "- node degree $d_i = \\sum_{j=1}^n w_{ij}$\n",
    "- degree matrix - diagonal matrix of $[d_i]$"
   ]
  },
  {
   "cell_type": "code",
   "execution_count": 6,
   "metadata": {
    "collapsed": false,
    "slideshow": {
     "slide_type": "subslide"
    }
   },
   "outputs": [
    {
     "name": "stdout",
     "output_type": "stream",
     "text": [
      "   0  1  2  3  4  5\n",
      "0  2  0  0  0  0  0\n",
      "1  0  2  0  0  0  0\n",
      "2  0  0  2  0  0  0\n",
      "3  0  0  0  1  0  0\n",
      "4  0  0  0  0  1  0\n",
      "5  0  0  0  0  0  0\n"
     ]
    }
   ],
   "source": [
    "# Computing degree matrix\n",
    "D = np.diag(G.degree(G.nodes()).values())\n",
    "D = pd.DataFrame(D)\n",
    "print D"
   ]
  },
  {
   "cell_type": "code",
   "execution_count": 7,
   "metadata": {
    "collapsed": false,
    "slideshow": {
     "slide_type": "subslide"
    }
   },
   "outputs": [
    {
     "name": "stdout",
     "output_type": "stream",
     "text": [
      "   0  1  2  3  4  5\n",
      "0  0  1  1  0  0  0\n",
      "1  1  0  1  0  0  0\n",
      "2  1  1  0  0  0  0\n",
      "3  0  0  0  0  1  0\n",
      "4  0  0  0  1  0  0\n",
      "5  0  0  0  0  0  0\n"
     ]
    }
   ],
   "source": [
    "# Computing Laplacian, degree matrix, and adjacency matrix in networkx\n",
    "W = nx.adjacency_matrix(G).todense()\n",
    "W = pd.DataFrame(W)\n",
    "print W"
   ]
  },
  {
   "cell_type": "code",
   "execution_count": 8,
   "metadata": {
    "collapsed": false,
    "slideshow": {
     "slide_type": "subslide"
    }
   },
   "outputs": [
    {
     "data": {
      "image/png": "[encoded data removed]",
      "text/plain": [
       "<matplotlib.figure.Figure at 0x1153be790>"
      ]
     },
     "metadata": {},
     "output_type": "display_data"
    }
   ],
   "source": [
    "G1 = cf.load_physicians_network()\n",
    "matrix = nx.to_numpy_matrix(G1)\n",
    "\n",
    "plt.pcolor(np.array(matrix), cmap='Blues')\n",
    "plt.axes().set_aspect('equal') # set aspect ratio equal to get a square visualization\n",
    "plt.xlim(min(G1.nodes()), max(G1.nodes())) # set x and y limits to the number of nodes present.\n",
    "plt.ylim(min(G1.nodes()), max(G1.nodes()))\n",
    "plt.title('Adjacency Matrix')\n",
    "plt.show()"
   ]
  },
  {
   "cell_type": "markdown",
   "metadata": {
    "slideshow": {
     "slide_type": "slide"
    }
   },
   "source": [
    "\n",
    "## The Laplacians\n",
    "\n",
    "- unnormalizaed Laplacian\n",
    "$$ L \\triangleq D - W $$\n",
    "\n",
    "\n",
    "\n",
    "- normalized Laplacian\n",
    " $$ \n",
    " \\begin{align} L_{sym} &\\triangleq D^{-1/2} W D^{-1/2}  \\nonumber \\\\\n",
    " &= I - D^{-1/2}W D^{-1/2} \\nonumber \\\\\n",
    " L_{rw} &\\triangleq D^{-1} L \\nonumber \\\\\n",
    " \\end{align}\n",
    " $$\n",
    " \n",
    "- Relaxed Laplacian\n",
    "$$\n",
    "  L_\\rho= L - \\rho D \n",
    "$$\n",
    "\n",
    "- Others\n",
    "$$\n",
    "    \\begin{align}\n",
    "    L_{njw} &= D^{-1/2} W D^{-1/2}, \\text{with } W_{i,i} = 0 \\nonumber\\\\\n",
    "    \\end{align}\n",
    "$$"
   ]
  },
  {
   "cell_type": "code",
   "execution_count": 9,
   "metadata": {
    "collapsed": false,
    "slideshow": {
     "slide_type": "subslide"
    }
   },
   "outputs": [
    {
     "name": "stdout",
     "output_type": "stream",
     "text": [
      "   0  1  2  3  4  5\n",
      "0  2 -1 -1  0  0  0\n",
      "1 -1  2 -1  0  0  0\n",
      "2 -1 -1  2  0  0  0\n",
      "3  0  0  0  1 -1  0\n",
      "4  0  0  0 -1  1  0\n",
      "5  0  0  0  0  0  0\n"
     ]
    }
   ],
   "source": [
    "# Computing Laplacian, degree matrix, and adjacency matrix in networkx\n",
    "L = np.array(nx.laplacian_matrix(G).todense())\n",
    "W = nx.adjacency_matrix(G).todense()\n",
    "D = np.diag(G.degree(G.nodes()).values())\n",
    "L, W, D = pd.DataFrame(L), pd.DataFrame(W), pd.DataFrame(D)\n",
    "print L"
   ]
  },
  {
   "cell_type": "markdown",
   "metadata": {
    "collapsed": true,
    "slideshow": {
     "slide_type": "slide"
    }
   },
   "source": [
    "## Matrices as Features?\n",
    "- General space distance to affinity measures?\n",
    "    - Euclidean, Minkowski Distance\n",
    "    - Gaussian Kernels (similarity = np.exp(-beta * distance / distance.std())\n",
    "    - Hamming? \n",
    "    - Levenshtein? By the way, how do you computer Levenshtein distance?\n",
    "    - Relative Entropy? Mutual Information?"
   ]
  },
  {
   "cell_type": "markdown",
   "metadata": {
    "slideshow": {
     "slide_type": "slide"
    }
   },
   "source": [
    "# Spectral analysis and projections"
   ]
  },
  {
   "cell_type": "markdown",
   "metadata": {
    "slideshow": {
     "slide_type": "slide"
    }
   },
   "source": [
    "## Laplacians:      A Spectral Graph Theory Perspective\n",
    "\n",
    "\n"
   ]
  },
  {
   "cell_type": "markdown",
   "metadata": {
    "slideshow": {
     "slide_type": "slide"
    }
   },
   "source": [
    "## Properties of Laplacians\n",
    "\n",
    "- Symmetric and positive semi-definite\n",
    "\n",
    "- Smallest eigenvalue $0$ corresponding to all $1$ eigenvector\n",
    "\n",
    "- Multiplicity $k$ of $0$ eigenvalue corresponding to number of connected components\n",
    "\n",
    "- Similar details for unnormalized ($L$) or normalized Laplacians ($L_{sys}$ and $L_{rw}$)"
   ]
  },
  {
   "cell_type": "code",
   "execution_count": 10,
   "metadata": {
    "collapsed": false,
    "slideshow": {
     "slide_type": "subslide"
    }
   },
   "outputs": [
    {
     "name": "stdout",
     "output_type": "stream",
     "text": [
      "Number of disconnected components: 3\n",
      "Corresponding eigenvectors:\n",
      "         0         1    2\n",
      "0 -0.57735  0.000000  0.0\n",
      "1 -0.57735  0.000000  0.0\n",
      "2 -0.57735  0.000000  0.0\n",
      "3  0.00000  0.707107  0.0\n",
      "4  0.00000  0.707107  0.0\n",
      "5  0.00000  0.000000  1.0\n"
     ]
    }
   ],
   "source": [
    "eigenvalues, eigenvectors = np.linalg.eig(L)\n",
    "print (\"Number of disconnected components: {}\".format(len(eigenvalues[eigenvalues < 1e-10])))\n",
    "print (\"Corresponding eigenvectors:\")\n",
    "print pd.DataFrame(eigenvectors[:, eigenvalues < 1e-12])"
   ]
  },
  {
   "cell_type": "code",
   "execution_count": 11,
   "metadata": {
    "collapsed": false,
    "slideshow": {
     "slide_type": "subslide"
    }
   },
   "outputs": [
    {
     "name": "stdout",
     "output_type": "stream",
     "text": [
      "Number of disconnected components: 4\n"
     ]
    }
   ],
   "source": [
    "G = cf.load_physicians_network()\n",
    "L = np.array(nx.laplacian_matrix(G).todense())\n",
    "eigenvalues, eigenvectors = np.linalg.eig(L)\n",
    "print (\"Number of disconnected components: {}\".format(len(eigenvalues[eigenvalues < 1e-10])))"
   ]
  },
  {
   "cell_type": "code",
   "execution_count": 12,
   "metadata": {
    "collapsed": false,
    "slideshow": {
     "slide_type": "subslide"
    }
   },
   "outputs": [
    {
     "data": {
      "text/plain": [
       "<matplotlib.axes._subplots.AxesSubplot at 0x1155f2850>"
      ]
     },
     "execution_count": 12,
     "metadata": {},
     "output_type": "execute_result"
    },
    {
     "data": {
      "image/png": "[encoded data removed]",
      "text/plain": [
       "<matplotlib.figure.Figure at 0x1157f1d50>"
      ]
     },
     "metadata": {},
     "output_type": "display_data"
    }
   ],
   "source": [
    "pd.Series(sorted(eigenvalues)).plot(style='ro ')"
   ]
  },
  {
   "cell_type": "markdown",
   "metadata": {
    "slideshow": {
     "slide_type": "slide"
    }
   },
   "source": [
    "## Useful formulations\n",
    "\n",
    "- Relaxations of min-cut optimizations (more on this later)"
   ]
  },
  {
   "cell_type": "markdown",
   "metadata": {
    "slideshow": {
     "slide_type": "slide"
    }
   },
   "source": [
    "# Clustering\n",
    "\n",
    "- Possibly the simplest part\n",
    "- k-means are most commonly used, but somewhat arbitrary\n",
    "- euclidean distance "
   ]
  },
  {
   "cell_type": "markdown",
   "metadata": {
    "collapsed": true,
    "slideshow": {
     "slide_type": "slide"
    }
   },
   "source": [
    "# So why on earth it works?"
   ]
  },
  {
   "cell_type": "markdown",
   "metadata": {
    "slideshow": {
     "slide_type": "slide"
    }
   },
   "source": [
    "# Interpretations: Graph Partitioning"
   ]
  },
  {
   "cell_type": "markdown",
   "metadata": {
    "slideshow": {
     "slide_type": "subslide"
    }
   },
   "source": [
    "# Graph cuts \n",
    "- pretty much center of my universe for a long time\n",
    "- some side notes\n",
    "\n",
    "For $A \\subseteq V$, \n",
    "- $|A|$: cardinality of $A$\n",
    "- $\\text{Vol}(A) = \\sum_{i \\in A} d_i$"
   ]
  },
  {
   "cell_type": "markdown",
   "metadata": {
    "slideshow": {
     "slide_type": "subslide"
    }
   },
   "source": [
    "## Cuts (2-way, k-way)\n",
    "\n",
    "$$ \n",
    "\\begin{align*}\n",
    "\\text{Cut} (A, B) &=  \\sum_{i\\in A, j \\in B} w_{ij}~, \\\\\n",
    "\\text{Cut} (A_1, \\cdots, A_k) &= \\frac{1}{2} \\sum_i^k \\text{cut}(A_i, \\overline{A_i}) \n",
    "\\end{align*}\n",
    "$$\n",
    "\n",
    "- May not be very effective. Why?"
   ]
  },
  {
   "cell_type": "markdown",
   "metadata": {
    "slideshow": {
     "slide_type": "subslide"
    }
   },
   "source": [
    "\n",
    "## Ratio Cuts\n",
    "\n",
    "$$\n",
    "\\begin{align*}\n",
    "\\text{RatioCut} (A, B) &= \\text{Cut} (A, B) \\left(\\frac{1}{|A|} + \\frac{1}{|B|}\\right)~, \\\\\n",
    "\\text{RatioCut} (A_1, \\cdots, A_k) &= \\frac{1}{2} \\sum_i^k \\frac{\\text{cut}(A_i, \\overline{A_i})}{|A_i|}\n",
    "\\end{align*}\n",
    "$$\n"
   ]
  },
  {
   "cell_type": "markdown",
   "metadata": {
    "slideshow": {
     "slide_type": "subslide"
    }
   },
   "source": [
    "\n",
    "\n",
    "## Normalized Cuts\n",
    "\n",
    "$$ \n",
    "\\begin{align*}\n",
    "\\text{NCut} (A, B) &= \\text{Cut} (A, B) \\left(\\frac{1}{\\text{Vol}(A)} + \\frac{1}{\\text{Vol}(|B|)}\\right)~, \\\\\n",
    "\\text{NCut} (A_1, \\cdots, A_k) &= \\frac{1}{2} \\sum_i^k \\frac{\\text{cut}(A_i, \\overline{A_i})}{\\text{Vol}(A_i)}\n",
    "\\end{align*}\n",
    "$$"
   ]
  },
  {
   "cell_type": "code",
   "execution_count": 13,
   "metadata": {
    "collapsed": false,
    "slideshow": {
     "slide_type": "subslide"
    }
   },
   "outputs": [
    {
     "data": {
      "image/png": "[encoded data removed]",
      "text/plain": [
       "<matplotlib.figure.Figure at 0x117c8ddd0>"
      ]
     },
     "metadata": {},
     "output_type": "display_data"
    }
   ],
   "source": [
    "G = nx.fast_gnp_random_graph(10, 0.2)\n",
    "nx.draw_networkx(G, node_size=700)"
   ]
  },
  {
   "cell_type": "markdown",
   "metadata": {
    "slideshow": {
     "slide_type": "slide"
    }
   },
   "source": [
    "## k-way cut minimizations\n",
    "\n",
    "$H = [h_j]$ normalized indicator matrix in $\\mathbb{R}^{n \\times k}$ for cluster membership,\n",
    "$$\n",
    "    \\text{RatioCut}(A_1, \\cdots, A_k) = \\sum_{i=1}^k h_i^T L h_i = \\text{Tr}(H^T L H)\n",
    "$$\n",
    "\n",
    "- Why does this lead to good clustering? "
   ]
  },
  {
   "cell_type": "markdown",
   "metadata": {
    "slideshow": {
     "slide_type": "slide"
    }
   },
   "source": [
    "## k-way cut minimizations\n",
    "$$\n",
    "\\begin{align*}\n",
    "\\min_{A_1, ..., A_k} \\text{Tr}(H^T L H) \\\\\n",
    "\\text{s. t.} \\qquad H^T H = I\n",
    "\\end{align*}\n",
    "$$\n",
    "\n",
    "\n",
    "- Difficult optimization problems\n",
    "- From min-cut relaxation to spectral clustering, relaxation:\n",
    "    - From $A_i, i=1, \\cdots k$,\n",
    "    - To $H\\in \\mathbb{R}^{n\\times k}$\n",
    "- Rayleigh-Ritz"
   ]
  },
  {
   "cell_type": "markdown",
   "metadata": {
    "collapsed": true,
    "slideshow": {
     "slide_type": "slide"
    }
   },
   "source": [
    "# Interpretations: Random Walk $L_{rw}$"
   ]
  },
  {
   "cell_type": "markdown",
   "metadata": {
    "slideshow": {
     "slide_type": "slide"
    }
   },
   "source": [
    "## Transition matrix $P$\n",
    "$$\n",
    "    P = D^{-1} W\n",
    "$$\n",
    "\n",
    "## Random Walk and Ncut\n",
    "$$\n",
    "    \\text{Ncut} (A, \\overline{A}) = P(\\overline{A}|A) + P(A|\\overline{A})\n",
    "$$\n",
    "\n",
    "- So why does it matter to minimize Normalized Cuts?\n",
    "- Minimize Ncut <=> minimize inter-cluster transitions"
   ]
  },
  {
   "cell_type": "markdown",
   "metadata": {
    "slideshow": {
     "slide_type": "slide"
    }
   },
   "source": [
    "# Parameter Tuning and Evaluation"
   ]
  },
  {
   "cell_type": "markdown",
   "metadata": {
    "slideshow": {
     "slide_type": "slide"
    }
   },
   "source": [
    "## Choose the cluster number\n",
    "\n",
    "- Domain knowledge, manually set number of clusters\n",
    "\n",
    "- Eigengaps detection"
   ]
  },
  {
   "cell_type": "code",
   "execution_count": 14,
   "metadata": {
    "collapsed": false,
    "slideshow": {
     "slide_type": "slide"
    }
   },
   "outputs": [
    {
     "name": "stderr",
     "output_type": "stream",
     "text": [
      "/Users/weifei/.virtualenvs/pydata/lib/python2.7/site-packages/numpy/core/numeric.py:482: ComplexWarning: Casting complex values to real discards the imaginary part\n",
      "  return array(a, dtype, copy=False, order=order)\n"
     ]
    },
    {
     "data": {
      "text/plain": [
       "<matplotlib.axes._subplots.AxesSubplot at 0x115063650>"
      ]
     },
     "execution_count": 14,
     "metadata": {},
     "output_type": "execute_result"
    },
    {
     "data": {
      "image/png": "[encoded data removed]",
      "text/plain": [
       "<matplotlib.figure.Figure at 0x117cba810>"
      ]
     },
     "metadata": {},
     "output_type": "display_data"
    }
   ],
   "source": [
    "G_random = nx.erdos_renyi_graph(100, 0.01)\n",
    "L = np.array(nx.laplacian_matrix(G_random).todense())\n",
    "eigenvalues, eigenvectors = np.linalg.eig(L)\n",
    "pd.Series(sorted(eigenvalues)).plot(style='ro ')"
   ]
  },
  {
   "cell_type": "markdown",
   "metadata": {
    "slideshow": {
     "slide_type": "slide"
    }
   },
   "source": [
    "## Evaluation: \n",
    "\n",
    "- With Ground Truth\n",
    "\n",
    "- Without Ground Truth"
   ]
  },
  {
   "cell_type": "markdown",
   "metadata": {
    "slideshow": {
     "slide_type": "slide"
    }
   },
   "source": [
    "# An Example?"
   ]
  },
  {
   "cell_type": "code",
   "execution_count": 15,
   "metadata": {
    "collapsed": false,
    "slideshow": {
     "slide_type": "subslide"
    }
   },
   "outputs": [],
   "source": [
    "file_name = \"./datasets/ps_cmd/ps_cmd.csv\"\n",
    "ps_cmd = pd.read_csv(file_name,header=None)\n",
    "ps_cmd.columns = ['cmd']"
   ]
  },
  {
   "cell_type": "code",
   "execution_count": null,
   "metadata": {
    "collapsed": false,
    "slideshow": {
     "slide_type": "subslide"
    }
   },
   "outputs": [
    {
     "data": {
      "text/plain": [
       "59626        xinetd -stayalive -pidfile /var/run/xinetd.pid\n",
       "35297     FNDLIBR                                       ...\n",
       "100732    /oracle/product/11.2.0.4/CSFPRD/bin/tnslsnr LI...\n",
       "56257     FNDLIBR                                       ...\n",
       "90758                         cupsd -C /etc/cups/cupsd.conf\n",
       "23368     /oracle/product/11.2.0.4/DWHPRD/bin/tnslsnr LI...\n",
       "71316                                     /sbin/portreserve\n",
       "34890     FNDLIBR                                       ...\n",
       "30048                                        /usr/sbin/sshd\n",
       "53681                         cupsd -C /etc/cups/cupsd.conf\n",
       "Name: cmd, dtype: object"
      ]
     },
     "execution_count": 16,
     "metadata": {},
     "output_type": "execute_result"
    }
   ],
   "source": [
    "ps_cmd['cmd'].sample(10)"
   ]
  },
  {
   "cell_type": "code",
   "execution_count": null,
   "metadata": {
    "collapsed": false,
    "slideshow": {
     "slide_type": "subslide"
    }
   },
   "outputs": [],
   "source": [
    "ps_cmd[\"cmd_terms\"] = ps_cmd.cmd.str.lower()\n",
    "ps_cmd[\"cmd_terms\"] = [re.sub(u'\\d', \"\", x) for x in ps_cmd['cmd_terms']]\n",
    "ps_cmd['cmd_terms'] = [re.sub(u'([^\\w\\.]|_)', ' ', x).strip() for x in ps_cmd['cmd_terms']]\n",
    "ps_cmd = ps_cmd.sample(5000)"
   ]
  },
  {
   "cell_type": "code",
   "execution_count": null,
   "metadata": {
    "collapsed": false,
    "slideshow": {
     "slide_type": "subslide"
    }
   },
   "outputs": [],
   "source": [
    "params = {\"analyzer\":\"word\", \"min_df\":1, \"ngram_range\":(1,1), \"norm\":\"l2\"}\n",
    "TfidfVect = TfidfVectorizer(**params)\n",
    "ps_dtm = TfidfVect.fit_transform(ps_cmd['cmd_terms'])"
   ]
  },
  {
   "cell_type": "code",
   "execution_count": null,
   "metadata": {
    "collapsed": false,
    "slideshow": {
     "slide_type": "subslide"
    }
   },
   "outputs": [],
   "source": [
    "ps_dtm_cos_similarity = metrics.pairwise.cosine_similarity(ps_dtm)"
   ]
  },
  {
   "cell_type": "code",
   "execution_count": null,
   "metadata": {
    "collapsed": false,
    "slideshow": {
     "slide_type": "subslide"
    }
   },
   "outputs": [],
   "source": [
    "cluster_ids = cluster.spectral_clustering(affinity=ps_dtm_cos_similarity)\n",
    "ps_cmd['cluster'] = cluster_ids"
   ]
  },
  {
   "cell_type": "code",
   "execution_count": null,
   "metadata": {
    "collapsed": false,
    "slideshow": {
     "slide_type": "subslide"
    }
   },
   "outputs": [],
   "source": [
    "cmd_clusters = ps_cmd.groupby('cluster')['cmd']"
   ]
  },
  {
   "cell_type": "markdown",
   "metadata": {
    "slideshow": {
     "slide_type": "slide"
    }
   },
   "source": [
    "# Let's switch gears a bit"
   ]
  },
  {
   "cell_type": "markdown",
   "metadata": {
    "slideshow": {
     "slide_type": "subslide"
    }
   },
   "source": [
    "## Recall the \"cut\" interpretation\n",
    "- Cuts are simply some objective functions\n",
    "- So why \"cut\"? why not some other measures? \n",
    "- what are other objective functions? what's a good measure?\n",
    "    - reflect intra-cluster similarity and inter-cluster difference\n",
    "- densities"
   ]
  },
  {
   "cell_type": "markdown",
   "metadata": {
    "slideshow": {
     "slide_type": "slide"
    }
   },
   "source": [
    "# Hierarchical Clustering Heuristics\n",
    "\n",
    "- spectral clustering is partition-based. How about hierarchical methods?\n",
    "- community detection \n",
    "    - yes, people just like different names, don't they?"
   ]
  },
  {
   "cell_type": "markdown",
   "metadata": {
    "slideshow": {
     "slide_type": "slide"
    }
   },
   "source": [
    "# Graph Modularity and Community Detections"
   ]
  },
  {
   "cell_type": "markdown",
   "metadata": {
    "slideshow": {
     "slide_type": "slide"
    }
   },
   "source": [
    "## Graph Modularity \n",
    "\n",
    "$$ {\\displaystyle Q={\\frac {1}{(2m)}}\\sum _{vw}\\left[A_{vw}-{\\frac {k_{v}k_{w}}{(2m)}}\\right]\\delta (c_{v},c_{w})=\\sum _{i=1}^{c}(e_{ii}-a_{i}^{2})}$$\n",
    "\n",
    "- $m$: |E|\n",
    "- $c_v$: cluster of node $v$\n",
    "- $k_v$: degree of $v$\n",
    "\n",
    "\n",
    "\n",
    "- How do we interpret this?\n"
   ]
  },
  {
   "cell_type": "code",
   "execution_count": null,
   "metadata": {
    "collapsed": true,
    "slideshow": {
     "slide_type": "skip"
    }
   },
   "outputs": [],
   "source": [
    "def modularity(graph, partition, weight='weight'):\n",
    "    if type(graph) != nx.Graph:\n",
    "        graph = graph.to_directed()\n",
    "\n",
    "    # deal with different partition inputs\n",
    "    # 1. map from each node to it's partition id.\n",
    "    # 2. map from partition id to list of node ids\n",
    "    # unify input into the second kind\n",
    "    first_key = partition.keys()[0]\n",
    "    if isinstance(partition[first_key], Iterable):\n",
    "        # second type, do conversion\n",
    "        partition = pd.Series(dict([(node, part) for part in partition.keys()\n",
    "                                    for node in partition[part]]))\n",
    "\n",
    "    if type(partition) == pd.Series:\n",
    "        partition = partition.to_dict()\n",
    "\n",
    "    inc = dict([])\n",
    "    deg = dict([])\n",
    "    links = graph.size(weight=weight)\n",
    "    if links == 0:\n",
    "        raise ValueError(\"A graph without link has an undefined modularity\")\n",
    "\n",
    "    for node in graph:\n",
    "        com = partition[node]\n",
    "        deg[com] = deg.get(com, 0.) + graph.degree(node, weight=weight)\n",
    "        for neighbor, datas in graph[node].items():\n",
    "            edge_weight = datas.get(weight, 1)\n",
    "            if partition[neighbor] == com:\n",
    "                if neighbor == node:\n",
    "                    inc[com] = inc.get(com, 0.) + float(edge_weight)\n",
    "                else:\n",
    "                    inc[com] = inc.get(com, 0.) + float(edge_weight) / 2.\n",
    "\n",
    "    res = 0.\n",
    "    for com in set(partition.values()):\n",
    "        res += (inc.get(com, 0.) / links) - (deg.get(com, 0.) / (2. * links)) ** 2\n",
    "    return res"
   ]
  },
  {
   "cell_type": "markdown",
   "metadata": {
    "slideshow": {
     "slide_type": "slide"
    }
   },
   "source": [
    "## Graph Centralities and Divisive Algorithms"
   ]
  },
  {
   "cell_type": "markdown",
   "metadata": {
    "slideshow": {
     "slide_type": "slide"
    }
   },
   "source": [
    "## Centrality of nodes and edges\n",
    "\n",
    "- why centrality matters?\n",
    "- centrality metrics (http://networkx.readthedocs.io/en/stable/reference/algorithms.centrality.html)\n",
    "    - degree\n",
    "    - betweenness\n",
    "    - Katz centrality and PageRank"
   ]
  },
  {
   "cell_type": "code",
   "execution_count": null,
   "metadata": {
    "collapsed": false,
    "slideshow": {
     "slide_type": "slide"
    }
   },
   "outputs": [],
   "source": [
    "G = cf.load_seventh_grader_network()\n",
    "print G.number_of_nodes(), G.number_of_edges()\n",
    "print pd.Series(nx.betweenness_centrality(G)).sort_values()"
   ]
  },
  {
   "cell_type": "code",
   "execution_count": null,
   "metadata": {
    "collapsed": true
   },
   "outputs": [],
   "source": [
    "G = nx.erdos_renyi_graph(50, 0.13)\n",
    "pos = nx.spring_layout(G)"
   ]
  },
  {
   "cell_type": "code",
   "execution_count": null,
   "metadata": {
    "collapsed": false,
    "slideshow": {
     "slide_type": "slide"
    }
   },
   "outputs": [],
   "source": [
    "centralities = pd.Series(nx.betweenness_centrality(G))\n",
    "draw_graph_with_node_colors(G, centralities, pos=pos)"
   ]
  },
  {
   "cell_type": "code",
   "execution_count": null,
   "metadata": {
    "collapsed": false,
    "slideshow": {
     "slide_type": "slide"
    }
   },
   "outputs": [],
   "source": [
    "centralities = pd.Series(nx.degree_centrality(G))\n",
    "draw_graph_with_node_colors(G, centralities, pos=pos)"
   ]
  },
  {
   "cell_type": "markdown",
   "metadata": {
    "slideshow": {
     "slide_type": "slide"
    }
   },
   "source": [
    "## Girvan-Newman Algorithm\n",
    "1. remove high betweenness (or other centrality metrics) edges\n",
    "2. compute connected components\n",
    "3. check modularity, back to step 1"
   ]
  },
  {
   "cell_type": "markdown",
   "metadata": {
    "slideshow": {
     "slide_type": "slide"
    }
   },
   "source": [
    "## Agglomerative Algorithms"
   ]
  },
  {
   "cell_type": "markdown",
   "metadata": {
    "slideshow": {
     "slide_type": "slide"
    }
   },
   "source": [
    "## Louvain\n",
    "\n",
    "1. Each node assigned its own community, compute the modularity\n",
    "2. Test for each node and its neighbor node  if removing  and combining it into the community of  increases the modularity of the graph. The change of modularity under such action is \n",
    "$\\Delta Q={\\bigg [}{\\frac {\\Sigma _{in}+k_{i,in}}{2m}}-{\\bigg (}{\\frac {\\Sigma _{tot}+k_{i}}{2m}}{\\bigg )}^{2}{\\bigg ]}-{\\bigg [}{\\frac {\\Sigma _{in}}{2m}}-{\\bigg (}{\\frac {\\Sigma _{tot}}{2m}}{\\bigg )}^{2}-{\\bigg (}{\\frac {k_{i}}{2m}}{\\bigg )}^{2}{\\bigg ]}$\n",
    "\n",
    "\tIf the change is positive, move  into the community of \n",
    "3. Iterate step 2 for all pairs until no more increase in modularity is possible\n",
    "4. Combine all node in each community to form a super node for each graph, iterate step 1-4 on the super node graph.\n"
   ]
  },
  {
   "cell_type": "markdown",
   "metadata": {
    "slideshow": {
     "slide_type": "slide"
    }
   },
   "source": [
    "# Thanks, and so, what's next ?!"
   ]
  },
  {
   "cell_type": "markdown",
   "metadata": {
    "collapsed": true,
    "slideshow": {
     "slide_type": "notes"
    }
   },
   "source": [
    "# References\n",
    "[1] D. Xu and Y. Tian, “A Comprehensive Survey of Clustering Algorithms,” Ann. Data. Sci., vol. 2, no. 2, pp. 165–193, Aug. 2015.\n",
    "\n",
    "[2] U. Von Luxburg, “A tutorial on spectral clustering,” Statistics and computing, vol. 17, no. 4, pp. 395–416, 2007.\n",
    "\n",
    "[3] A. Y. Ng, M. I. Jordan, Y. Weiss, and others, “On spectral clustering: Analysis and an algorithm,” Advances in neural information processing systems, vol. 2, pp. 849–856, 2002.\n",
    "\n",
    "[4] F. Jordan and F. Bach, “Learning spectral clustering,” Adv. Neural Inf. Process. Syst, vol. 16, pp. 305–312, 2004.\n",
    "\n",
    "[5] T. Xiang and S. Gong, “Spectral clustering with eigenvector selection,” Pattern Recognition, vol. 41, no. 3, pp. 1012–1029, 2008.\n",
    "\n",
    "[6] “Spectral Clustering, ICML 2004 Tutorial by Chris Ding.” [Online]. Available: http://ranger.uta.edu/~chqding/Spectral/.\n",
    "\n",
    "[7] S. Fortunato, “Community detection in graphs,” Physics Reports, vol. 486, no. 3–5, pp. 75–174, Feb. 2010.\n",
    "\n",
    "[8] M. Girvan and M. E. Newman, “Community structure in social and biological networks,” Proceedings of the national academy of sciences, vol. 99, no. 12, pp. 7821–7826, 2002.\n",
    "\n",
    "[9] M. E. Newman and M. Girvan, “Finding and evaluating community structure in networks,” Physical review E, vol. 69, no. 2, p. 26113, 2004.\n",
    "\n",
    "[10] V. D. Blondel, J.-L. Guillaume, R. Lambiotte, and E. Lefebvre, “Fast unfolding of communities in large networks,” Journal of statistical mechanics: theory and experiment, vol. 2008, no. 10, p. P10008, 2008.\n",
    "\n",
    "[11] Clustering using Scikit-Learn: http://scikit-learn.org/stable/modules/clustering.html#spectral-clustering\n",
    "\n",
    "\n",
    "\n",
    "\n",
    "\n",
    "\n"
   ]
  }
 ],
 "metadata": {
  "celltoolbar": "Slideshow",
  "gist": {
   "data": {
    "description": "Documents/Notebooks/clustering/Untitled.ipynb",
    "public": false
   },
   "id": ""
  },
  "hide_input": false,
  "kernelspec": {
   "display_name": "Python 2",
   "language": "python",
   "name": "python2"
  },
  "language_info": {
   "codemirror_mode": {
    "name": "ipython",
    "version": 2
   },
   "file_extension": ".py",
   "mimetype": "text/x-python",
   "name": "python",
   "nbconvert_exporter": "python",
   "pygments_lexer": "ipython2",
   "version": "2.7.11"
  },
  "latex_envs": {
   "bibliofile": "biblio.bib",
   "cite_by": "apalike",
   "current_citInitial": 1,
   "eqLabelWithNumbers": true,
   "eqNumInitial": 0
  },
  "nav_menu": {},
  "toc": {
   "navigate_menu": true,
   "number_sections": false,
   "sideBar": true,
   "threshold": 6,
   "toc_cell": false,
   "toc_section_display": "block",
   "toc_window_display": false
  }
 },
 "nbformat": 4,
 "nbformat_minor": 0
}
